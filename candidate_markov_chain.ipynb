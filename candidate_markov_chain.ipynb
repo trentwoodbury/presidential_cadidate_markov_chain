{
 "cells": [
  {
   "cell_type": "code",
   "execution_count": 23,
   "metadata": {
    "collapsed": true
   },
   "outputs": [],
   "source": [
    "import markovify as mk\n",
    "import pandas as pd\n",
    "import numpy as np"
   ]
  },
  {
   "cell_type": "code",
   "execution_count": 5,
   "metadata": {
    "collapsed": false
   },
   "outputs": [
    {
     "data": {
      "text/html": [
       "<div>\n",
       "<table border=\"1\" class=\"dataframe\">\n",
       "  <thead>\n",
       "    <tr style=\"text-align: right;\">\n",
       "      <th></th>\n",
       "      <th>Line</th>\n",
       "      <th>Speaker</th>\n",
       "      <th>Text</th>\n",
       "      <th>Date</th>\n",
       "      <th>Party</th>\n",
       "      <th>Location</th>\n",
       "      <th>URL</th>\n",
       "    </tr>\n",
       "  </thead>\n",
       "  <tbody>\n",
       "    <tr>\n",
       "      <th>0</th>\n",
       "      <td>1</td>\n",
       "      <td>Woodruff</td>\n",
       "      <td>Good evening, and thank you. We are happy to w...</td>\n",
       "      <td>2/11/16</td>\n",
       "      <td>Democratic</td>\n",
       "      <td>Milwaukee, Wisconsin</td>\n",
       "      <td>http://www.presidency.ucsb.edu/ws/index.php?pi...</td>\n",
       "    </tr>\n",
       "    <tr>\n",
       "      <th>1</th>\n",
       "      <td>2</td>\n",
       "      <td>Ifill</td>\n",
       "      <td>We want to also extend our warm thanks to Milw...</td>\n",
       "      <td>2/11/16</td>\n",
       "      <td>Democratic</td>\n",
       "      <td>Milwaukee, Wisconsin</td>\n",
       "      <td>http://www.presidency.ucsb.edu/ws/index.php?pi...</td>\n",
       "    </tr>\n",
       "    <tr>\n",
       "      <th>2</th>\n",
       "      <td>3</td>\n",
       "      <td>AUDIENCE</td>\n",
       "      <td>(APPLAUSE)</td>\n",
       "      <td>2/11/16</td>\n",
       "      <td>Democratic</td>\n",
       "      <td>Milwaukee, Wisconsin</td>\n",
       "      <td>http://www.presidency.ucsb.edu/ws/index.php?pi...</td>\n",
       "    </tr>\n",
       "    <tr>\n",
       "      <th>3</th>\n",
       "      <td>4</td>\n",
       "      <td>Woodruff</td>\n",
       "      <td>Welcome, Senator, great to see you. And former...</td>\n",
       "      <td>2/11/16</td>\n",
       "      <td>Democratic</td>\n",
       "      <td>Milwaukee, Wisconsin</td>\n",
       "      <td>http://www.presidency.ucsb.edu/ws/index.php?pi...</td>\n",
       "    </tr>\n",
       "    <tr>\n",
       "      <th>4</th>\n",
       "      <td>5</td>\n",
       "      <td>AUDIENCE</td>\n",
       "      <td>(APPLAUSE)</td>\n",
       "      <td>2/11/16</td>\n",
       "      <td>Democratic</td>\n",
       "      <td>Milwaukee, Wisconsin</td>\n",
       "      <td>http://www.presidency.ucsb.edu/ws/index.php?pi...</td>\n",
       "    </tr>\n",
       "  </tbody>\n",
       "</table>\n",
       "</div>"
      ],
      "text/plain": [
       "   Line   Speaker                                               Text     Date  \\\n",
       "0     1  Woodruff  Good evening, and thank you. We are happy to w...  2/11/16   \n",
       "1     2     Ifill  We want to also extend our warm thanks to Milw...  2/11/16   \n",
       "2     3  AUDIENCE                                         (APPLAUSE)  2/11/16   \n",
       "3     4  Woodruff  Welcome, Senator, great to see you. And former...  2/11/16   \n",
       "4     5  AUDIENCE                                         (APPLAUSE)  2/11/16   \n",
       "\n",
       "        Party              Location  \\\n",
       "0  Democratic  Milwaukee, Wisconsin   \n",
       "1  Democratic  Milwaukee, Wisconsin   \n",
       "2  Democratic  Milwaukee, Wisconsin   \n",
       "3  Democratic  Milwaukee, Wisconsin   \n",
       "4  Democratic  Milwaukee, Wisconsin   \n",
       "\n",
       "                                                 URL  \n",
       "0  http://www.presidency.ucsb.edu/ws/index.php?pi...  \n",
       "1  http://www.presidency.ucsb.edu/ws/index.php?pi...  \n",
       "2  http://www.presidency.ucsb.edu/ws/index.php?pi...  \n",
       "3  http://www.presidency.ucsb.edu/ws/index.php?pi...  \n",
       "4  http://www.presidency.ucsb.edu/ws/index.php?pi...  "
      ]
     },
     "execution_count": 5,
     "metadata": {},
     "output_type": "execute_result"
    }
   ],
   "source": [
    "df = pd.read_csv('primary_debates_cleaned.csv')\n",
    "df.head()"
   ]
  },
  {
   "cell_type": "code",
   "execution_count": 6,
   "metadata": {
    "collapsed": false
   },
   "outputs": [
    {
     "data": {
      "text/plain": [
       "array(['Woodruff', 'Ifill', 'AUDIENCE', 'Clinton', 'Sanders', 'OTHER',\n",
       "       'CANDIDATES', 'Tapper', 'Kasich', 'Rubio', 'Cruz', 'Trump', 'Dinan',\n",
       "       'Bash', 'Hewitt', 'Holt', \"O'Malley\", 'QUESTION', 'Mitchell',\n",
       "       'Dickerson', 'Carson', 'Bush', 'Strassel', 'Garrett', 'Regan',\n",
       "       'Seib', 'Jindal', 'Christie', 'Huckabee', 'Santorum', 'UNKNOWN',\n",
       "       'Kelly', 'Baier', 'Wallace', 'Paul', 'Walker', 'Perry (VIDEO)',\n",
       "       'Fiorina (VIDEO)', 'Quintanilla', 'Fiorina', 'Harwood', 'Quick',\n",
       "       'Cramer', 'Santelli', 'Epperson', 'Pataki', 'Graham', 'Cooper',\n",
       "       'Chafee', 'Webb', 'Lemon', 'Lopez', 'Raddatz', 'Muir', 'Levesque',\n",
       "       'Mcelveen', 'Cavuto', 'Bartiromo', 'Blitzer', 'Ramos',\n",
       "       'Salinas (TRANSLATED)', 'Ramos (TRANSLATED)', 'Salinas', 'Tumulty',\n",
       "       'Sanders (VIDEO)', 'Ramos (VIDEO)', 'Clinton (VIDEO)',\n",
       "       'QUESTION (TRANSLATED)', 'UNKNOWN (TRANSLATED)', 'Louis', 'Hemmer',\n",
       "       'Gilmore', 'MacCallum', 'Rubio (VIDEO)', 'Cruz (VIDEO)', 'Ham',\n",
       "       'Todd', 'Maddow', 'Cordes', 'Cooney', 'Obradovich', 'Cuomo (VIDEO)',\n",
       "       'Trump (VIDEO)', \"O'Reilly (VIDEO)\", 'Hannity', 'Kasich (VIDEO)',\n",
       "       'Arrar\\xc3\\xa1s', 'Baker', 'Perry'], dtype=object)"
      ]
     },
     "execution_count": 6,
     "metadata": {},
     "output_type": "execute_result"
    }
   ],
   "source": [
    "df.Speaker.unique()"
   ]
  },
  {
   "cell_type": "markdown",
   "metadata": {},
   "source": [
    "### Obviously, we'll start with Trump as he is the most linguistically intriguing.<br>\n",
    "<b>trumpisms</b> is a list of all the speaches by Donald Trump"
   ]
  },
  {
   "cell_type": "code",
   "execution_count": 27,
   "metadata": {
    "collapsed": false
   },
   "outputs": [
    {
     "name": "stdout",
     "output_type": "stream",
     "text": [
      "Number of Trumpisms: 906\n",
      "Datatype of Trumpisms: <type 'list'>\n"
     ]
    }
   ],
   "source": [
    "trumpisms = df[df['Speaker'] == 'Trump'].loc[:, 'Text'].values\n",
    "trumpisms = trumpisms.tolist()\n",
    "print \"Number of Trumpisms:\", len(trumpisms)\n",
    "print \"Datatype of Trumpisms:\", type(trumpisms)"
   ]
  },
  {
   "cell_type": "code",
   "execution_count": 28,
   "metadata": {
    "collapsed": false
   },
   "outputs": [
    {
     "name": "stdout",
     "output_type": "stream",
     "text": [
      "One of the biggest political events anywhere in the world is happening right now with the Republican Party. Millions and millions of people are going out to the polls and they're voting. They're voting out of enthusiasm. They're voting out of love. Some of these people, frankly, have never voted before -- 50 years old, 60 years old, 70 years old -- never voted before. We're taking people from the Democrat Party. We're taking people as independents, and they're all coming out and the whole world is talking about it. It's very exciting. I think, frankly, the Republican establishment, or whatever you want to call it, should embrace what's happening. We're having millions of extra people join. We are going to beat the Democrats. We are going to beat Hillary or whoever it may be. And we're going to beat them soundly.\n"
     ]
    }
   ],
   "source": [
    "print trumpisms[0]"
   ]
  },
  {
   "cell_type": "markdown",
   "metadata": {},
   "source": [
    "<b>trump_string</b> contains all of Trump's speaches concatenated."
   ]
  },
  {
   "cell_type": "code",
   "execution_count": 32,
   "metadata": {
    "collapsed": false
   },
   "outputs": [
    {
     "name": "stdout",
     "output_type": "stream",
     "text": [
      "213045\n",
      "One of the biggest political events anywhere in the world is happening right now with the Republican Party. Millions and millions of people are going out to the polls and they're voting. They're voting out of enthusiasm. They're voting out of love. Some of these people, frankly, have never voted before -- 50 years old, 60 years old, 70 years old -- never voted before. We're taking people from the Democrat Party. We're taking people as independents, and they're all coming out and the whole world is talking about it. It's very exciting. I think, frankly, the Republican establishment, or whatever you want to call it, should embrace what's happening. We're having millions of extra people join. We are going to beat the Democrats. We are going to beat Hillary or whoever it may be. And we're going to beat them soundly.Because nobody knows the system better than me. I know the H1B. I know the H2B. Nobody knows it better than me. I'm a businessman. These are laws. These are regulations. These are rules. We're allowed to do it. And frankly, because of the devaluations that other countries -- the monetary devaluations that other countries are constantly doing and brilliantly doing against us, it's very, very hard for our companies in this country, in our country, to compete. So I will take advantage of it; they're the laws. But I'm the one that knows how to change it. Nobody else on this dais knows how to change it like I do, believe me.I will. First of all, I think and I know the H1B very well. And it's something that I frankly use and I shouldn't be allowed to use it. We shouldn't have it. Very, very bad for workers. And second of all, I think it's very important to say, well, I'm a businessman and I have to do what I have to do. When it's sitting there waiting for you, but it's very bad. It's very bad for business in terms of -- and it's very bad for our workers and it's unfair for our workers. And we should end it. Very importantly, the Disney workers endorsed me, as you p\n"
     ]
    }
   ],
   "source": [
    "trump_string = ''\n",
    "for trumpism in trumpisms:\n",
    "    trump_string += trumpism\n",
    "    \n",
    "print len(trump_string)\n",
    "print trump_string[0:2000]"
   ]
  },
  {
   "cell_type": "code",
   "execution_count": 33,
   "metadata": {
    "collapsed": true
   },
   "outputs": [],
   "source": [
    "trump_model = mk.Text(trump_string)"
   ]
  },
  {
   "cell_type": "code",
   "execution_count": 39,
   "metadata": {
    "collapsed": false
   },
   "outputs": [
    {
     "name": "stdout",
     "output_type": "stream",
     "text": [
      "So we need strength, we don't have a depleted military.All that stuff has to hire as many Americans as we can, but they have done a tremendous company and all of this country.We don't have an infrastructure that's falling apart.I'll be creating many millions of people coming in.I'm going to destroy our economy great again.I want everybody taken care of everybody up here.Who the hell out of hundreds of deals...Excuse me.I will make this even more so than it has been going over budgets and looking at me?Can I tell the truth.You know, I don't want to file it, except for many -- and we will win in...But, many of these millions of people that are taking so much with Mexico and almost everybody takes advantage of the people, many, many more James Foleys.She's trying to topple various people that held the wedding reception for them.I know why he doesn't know what percentage it is.\n"
     ]
    }
   ],
   "source": [
    "trump_output = []\n",
    "for i in range(10):\n",
    "    trump_output.append(trump_model.make_sentence())\n",
    "\n",
    "trump_output_string = ''\n",
    "for sentence in trump_output:\n",
    "    trump_output_string += sentence\n",
    "\n",
    "print trump_output_string"
   ]
  },
  {
   "cell_type": "markdown",
   "metadata": {},
   "source": [
    "### Below is a generalized function to create a markov chain generator for any given candidate."
   ]
  },
  {
   "cell_type": "code",
   "execution_count": 45,
   "metadata": {
    "collapsed": true
   },
   "outputs": [],
   "source": [
    "def make_a_markov(candidate, output_length):\n",
    "    #Input: Candidate(string), name of candidate\n",
    "    #Input: output_length (int), number of sentences in output\n",
    "    #Output: (string) markov string of candidate's speach\n",
    "    \n",
    "    sayings = df[df['Speaker'] == candidate].loc[:, 'Text'].values.tolist()\n",
    "    sayings_string = ''\n",
    "    for saying in sayings:\n",
    "        sayings_string += saying\n",
    "    sayings_model = mk.Text(sayings_string)\n",
    "    output = ''\n",
    "    for i in range(output_length):\n",
    "        output += sayings_model.make_sentence()\n",
    "    return output    "
   ]
  },
  {
   "cell_type": "markdown",
   "metadata": {},
   "source": [
    "## Markov Chain for Hillary Clinton"
   ]
  },
  {
   "cell_type": "code",
   "execution_count": 46,
   "metadata": {
    "collapsed": false
   },
   "outputs": [
    {
     "data": {
      "text/plain": [
       "\"And I think it's very hard -- I think you could find any person in our country where the level of toxins in the excessive use of medical marijuana, and I had a president willing to stand up to the opportunity to discuss the issues that have many of them that they would be a security review that was needed to do what for them turned over to privatization.I came out against Wall Street in the region, but I want to do and what we have to go after the big banks, which Senator Sanders said that President Obama moved forward on so many years, and we're going to extend the Social Security Trust Fund.That has to have the chances that they were getting ready to have the greatest accomplishments of President Obama, who, incidentally, took a chance to live up to his or her potential.Let me talk about him.We're going to wait and have been very blessed.And if at the federal government by the Congress, by President Obama, of the Golan right next to Israel would be really focused on how we build ladders of opportunity that will bring to both that seeking and then we saw him ousted and the powerful on behalf of Assad, and we will break up big banks that pose a systemic risk to our friends and allies, and I do not, then when we look at it, we moved more quickly than the Great Recession and basically called them out, said that we have to take on the Republican side.I did spend a whole lot of work we need a coalition when you oppose something, Senator.So this is a unique gift given to only one on this issue, Errol, because I have absolutely no sense.Just think, imagine where we are not enough facilities.I think that the Koch Brothers, you're referring to a low interest rate.\""
      ]
     },
     "execution_count": 46,
     "metadata": {},
     "output_type": "execute_result"
    }
   ],
   "source": [
    "make_a_markov('Clinton', 10)"
   ]
  },
  {
   "cell_type": "markdown",
   "metadata": {},
   "source": [
    "### And finally for the output for all candidates\n",
    "*by all candidates, I mean all major candidates"
   ]
  },
  {
   "cell_type": "code",
   "execution_count": 63,
   "metadata": {
    "collapsed": false
   },
   "outputs": [
    {
     "name": "stdout",
     "output_type": "stream",
     "text": [
      "Clinton \n",
      "\n",
      "There's no doubt that we put enormous pressure on the drug companies.And I also am very grateful for all my emails to be treated.But there has been an agreement that we didn't put a price tag.But let's just follow up on something having to do exactly what we did.I called to do.If I could, let me just follow-up on that, calling the president to knock down those barriers that stand in the region itself.Thank you, John.So I do believe that we can to address distressed communities, whether they could no longer fearing that they could not answer about Afghanistan, about Israel, about counterterrorism, except to say to their senses and realize that it doesn't go far enough, because what really is important to get more support to people who are actually doing the same.And that's in my values and interests, and now they want to add, you know, I remember as a big insurance companies, it was called ObamaCare it was one of the aftermath of the problem that we do have the toughest regulation since the Great Wall of China, that would run the entire picture.And we have to try to think about what is, and is not progressive because he took office.So let's not in our country. \n",
      "\n",
      "\n",
      "Sanders \n",
      "\n",
      "That is not listening to the media now is save some face.But at the lowest possible interest rates is a good point, Anderson.And I was 20 points ahead of Donald Trump.Well, you have massive levels of income and wealth inequality, climate change threatens the whole history of......American involvement in regime change.This I do believe we should be.So I am not sure that people know that, we don't talk about something else, because Secretary Clinton and I hope those are the wealthiest people in our country.Isn't it tragic that the United States senator had the opportunity to go to college, public colleges and universities.And in fact, transform America.Let me just answer that.A little bit too aggressive without knowing what the secretary is right.And that means that we have got to work in the last 30 years, based on talking to our enemies.Is that a mother -- clearly, we got to do it?And I believe that the United States has got to do what I want every kid in this country, in recent years we have to rethink the so-called war on drugs......which has done an excellent position to bring justice back to the bottom line. \n",
      "\n",
      "\n",
      "Cruz \n",
      "\n",
      "You look at his funeral this weekend.But it was a child, was an Army veteran.This administration started with President Obama like he is as one of the major problems.And if you don't lose your job, your health care.Now, let's be clear.Donald claims -- Donald Trump.We're not using the same time, I was proud to have the lowest percentage of Americans rose up to Hillary Clinton, Chuck Schumer and Barack Obama.I will put to her and beat Hillary Clinton.So if you make your money in the Heller decision being overturned, which would effectively erase the Second Amendment, and we are all the taxes.Donald wants to do with people who know me best, the people of Iowa approach this process.She was a disaster. \n",
      "\n",
      "\n",
      "Kasich \n",
      "\n",
      "He wants America to be paid attention to because they're able to practice the religion that they can do it again, and I'm the little engine that can.If you don't know where you will know what's going to be on top of it.I was just an article the other day, Hugh, that I can't care about that.And when that happens, that means that every veteran will get solved, but it has been exactly right for all the companies now that some rise with conservative principles, but everybody has a plan like this.And I went into Ohio and took an $8 billion hole to a $2 billion surplus.In my state, the state and local law enforcement, community people, clergy and the big banks is to have people on this stage that have called for it, and they can't get a job, things are going to vote for us come next fall, promise you he's not going to do what we need to send a lot of families for a long time.Maybe they're worried about -- I'm not for a federal balanced budget.We need to move all across the country this year.We don't have to reserve the capital, so that we have to say.I mean by that.When you are below the midpoint, we are rehabbing the drug-addicted. \n",
      "\n",
      "\n",
      "Trump \n",
      "\n",
      "Some of these 1,400 people that don't know where you...And if I say they'll do as I tell the truth.And Jeff Sessions, one of the polls and they're moving it to the destruction of the fact is Benghazi was a -- the World Trade Center, flying into the World Trade Center came down, I saw him use the term, you're never going to spend $25 million on ads.It was a businessman.They're going to happen that way.So conservatives actually do come out recently saying I would say that is getting beaten badly.I know it very strongly.Nobody is going to find out what's going on?We're going to see preexisting conditions and everything else that are being laid off -- they're goingNo, no.You might say, you might talk, you're politicians, all talk, no action.I've been watching the debate was Trump this, Trump that, in order to get rid of waste, fraud, abuse and bring back our jobs; to get the Senate.The police in this together.And frankly, I know why he is the same thing he did say there was a little bit rough...... \n",
      "\n",
      "\n",
      "Bush \n",
      "\n",
      "This is the first chance...Right after me, and then Putin will take on any challenge and if we don't send signals like this, we need to do what they're going to do is destroy ISIS.With grandiose language, the president talks about them as though anything matters when you're elected, you need to do things.That's exactly what we believe in.It is not true.Thank you.I think the dysfunction in Washington don't get paid.I have a serious kind of philosophy, that didn't fulfill their part of life.We don't have makes -- makes the deficit and debt.What we need to shift all of us?We left the state of Florida, as a conservative reformed governor for eight years it took.Everybody's record's going to show support and it was defined, and the government would get the revenue necessary to take out ISIS. \n",
      "\n",
      "\n",
      "Carson \n",
      "\n",
      "But the pundits forgot about one thing, and that there was an additional 81,000 pages of government regulations.But, right now, a situation that we're having.And we need to secure all the time, but I'd be happy to get rid of all the regulatory burden.We don't need more of the matter is, we need to be looked at pretty carefully at some of the United States of America.And, you know, Obama has said, you know, a national goal to put in $2 billion.You know, if we just want to get a chance to talk that much.We could do with $12,500, which will get us on the way.It's poor people because this man is going to ask them about that.And even for the big corporations, quite frankly, because I don't care what you want?We have to pay something, because everybody has to have a whole lot easier for them to release these people, 67,000 criminals released......on to our property, it's ridiculous.Well, I have no idea what our financial situation is. \n",
      "\n",
      "\n",
      "Christie \n",
      "\n",
      "She put America's security first.The American people feel like America's generosity is being gamed, and that is not going to be able to beat my head in and fight me because I'm from New Jersey, with lots of different things about me in the state payroll by 15%, but, you know what?But it means a no-fly zone, Wolf.But it means to face charges.I will tell you something, you go...When you -- you know, Senator Paul?But, here's the thing.And let me tell you that your Social Security is meant to be able to do in this entire campaign a few weeks ago, there's nothing for free.When you became president, you had a law that we signed into effect, which said that Ms. Davis should either lose her job or that she doesn't respect their service.And, I'll tell you this, Jake, I'm a conservative, pro-life governor in American history.I heard what they had to watch this week that because we're running for their lives.The fact she had been treating patients. \n",
      "\n",
      "\n"
     ]
    }
   ],
   "source": [
    "legit_candidates = ['Clinton', 'Sanders', 'Cruz', 'Kasich', 'Trump', 'Bush', 'Carson', 'Christie']\n",
    "for speaker in legit_candidates:\n",
    "    print speaker, '\\n'\n",
    "    print make_a_markov(speaker, 10), '\\n\\n'"
   ]
  }
 ],
 "metadata": {
  "anaconda-cloud": {},
  "kernelspec": {
   "display_name": "Python [default]",
   "language": "python",
   "name": "python2"
  },
  "language_info": {
   "codemirror_mode": {
    "name": "ipython",
    "version": 2
   },
   "file_extension": ".py",
   "mimetype": "text/x-python",
   "name": "python",
   "nbconvert_exporter": "python",
   "pygments_lexer": "ipython2",
   "version": "2.7.12"
  }
 },
 "nbformat": 4,
 "nbformat_minor": 1
}
